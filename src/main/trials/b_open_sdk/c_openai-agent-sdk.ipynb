{
 "cells": [
  {
   "cell_type": "code",
   "execution_count": null,
   "id": "89335387",
   "metadata": {},
   "outputs": [
    {
     "name": "stdout",
     "output_type": "stream",
     "text": [
      "Runner Result: Predicting the top companies in 2030 involves considering current trends, technological advancements, and societal shifts. Here’s a speculative list of companies that could be leaders in 2030:\n",
      "\n",
      "1. **Tech Giants (e.g., Apple, Microsoft, Google)**: These companies will likely remain at the forefront due to their continuous innovation in AI, cloud computing, and consumer technology.\n",
      "\n",
      "2. **Electric Vehicle Manufacturers (e.g., Tesla, Rivian, or new entrants)**: As the world transitions to sustainable energy, EV companies could dominate the automotive industry and expand into battery technology and renewable energy.\n",
      "\n",
      "3. **Biotech Firms (e.g., Moderna, BioNTech)**: With advancements in gene editing and personalized medicine, biotech firms could lead in healthcare, especially in mRNA technology and immunotherapies.\n",
      "\n",
      "4. **Sustainable Energy Companies (e.g., NextEra Energy, Enphase Energy)**: Companies focused on renewable energy sources like solar and wind could thrive as global demand for sustainable practices grows.\n",
      "\n",
      "5. **Social Media/E-commerce Platforms (e.g., Amazon, Alibaba, or emerging platforms)**: These companies could continue to evolve, leveraging AI, AR/VR, and blockchain technology to enhance user experiences and streamline commerce.\n",
      "\n",
      "These predictions rely on ongoing trends in technology, sustainability, and health, and may change as new innovations and market challenges emerge.\n",
      "Here are five notable technical advancements expected by 2030:\n",
      "\n",
      "1. **AI Integration in Daily Life**: Artificial intelligence will be seamlessly integrated into homes, workplaces, and cities, enhancing personal assistants, automating routine tasks, and providing real-time data analysis for better decision-making.\n",
      "\n",
      "2. **Enhanced Virtual Reality (VR) and Augmented Reality (AR)**: VR and AR technologies will revolutionize entertainment, education, and training, offering immersive experiences that blend digital content with the physical world for enhanced learning and interaction.\n",
      "\n",
      "3. **Quantum Computing Breakthroughs**: Quantum computers will achieve significant milestones, solving complex problems exponentially faster than classical computers, impacting cryptography, materials science, and drug discovery.\n",
      "\n",
      "4. **Widespread 5G and Beyond**: The global rollout of 5G networks and the development of 6G will enable unprecedented connectivity, improving IoT applications, smart cities, and remote work capabilities, with ultra-low latency and high-speed data transmission.\n",
      "\n",
      "5. **Sustainable Energy Innovations**: Advances in renewable energy technologies, such as efficient solar panels and breakthroughs in fusion energy, will accelerate the transition to sustainable energy sources, significantly reducing reliance on fossil fuels.\n"
     ]
    }
   ],
   "source": [
    "from dotenv import load_dotenv\n",
    "from agents import Agent, trace, Runner\n",
    "\n",
    "agent_call=Agent(\n",
    "    name=\"predict_future\",\n",
    "    model=\"gpt-4o-mini\",\n",
    "    instructions=\"Tell me something interesting about the world in 2030\"\n",
    ")\n",
    "\n",
    "agent_runner=await Runner.run(agent_call, \"What could be the top 5 companies in 2030\")\n",
    "\n",
    "print(f\"Runner Result: {agent_runner.final_output}\")\n",
    "\n",
    "with trace(\"predict_future\"):\n",
    "    result=await Runner.run(agent_call, \"Technical advancements in 2030 in brief five points\")\n",
    "    print(result.final_output)"
   ]
  }
 ],
 "metadata": {
  "kernelspec": {
   "display_name": "voyage-venv-3.10",
   "language": "python",
   "name": "python3"
  },
  "language_info": {
   "codemirror_mode": {
    "name": "ipython",
    "version": 3
   },
   "file_extension": ".py",
   "mimetype": "text/x-python",
   "name": "python",
   "nbconvert_exporter": "python",
   "pygments_lexer": "ipython3",
   "version": "3.10.18"
  }
 },
 "nbformat": 4,
 "nbformat_minor": 5
}
