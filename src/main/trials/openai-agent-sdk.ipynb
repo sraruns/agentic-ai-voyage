{
 "cells": [
  {
   "cell_type": "code",
   "execution_count": null,
   "id": "89335387",
   "metadata": {},
   "outputs": [
    {
     "name": "stdout",
     "output_type": "stream",
     "text": [
      "Here are five points highlighting technical advancements expected by 2030:\n",
      "\n",
      "1. **Ubiquitous AI Integration**: Artificial intelligence will be deeply embedded in daily life, enhancing everything from personal assistants and smart homes to healthcare diagnostics and autonomous vehicles. AI systems will provide real-time analysis and predictions, making processes more efficient.\n",
      "\n",
      "2. **5G and Future Connectivity**: Widespread adoption of 5G networks will enable faster, more reliable internet connections, facilitating advances in IoT (Internet of Things) devices. This will enhance smart city infrastructures, allowing for improved traffic management, energy consumption, and public safety.\n",
      "\n",
      "3. **Quantum Computing Breakthroughs**: Significant strides in quantum computing will make it possible to tackle complex problems previously deemed unsolvable, impacting fields like drug discovery, cryptography, and materials science.\n",
      "\n",
      "4. **Augmented and Virtual Reality (AR/VR)**: AR and VR technologies will become mainstream, revolutionizing education, training, entertainment, and remote work experiences by providing immersive environments for learning and collaboration.\n",
      "\n",
      "5. **Sustainable Tech Solutions**: Innovations in clean energy and sustainable technologies—such as advanced solar panels, energy-efficient buildings, and carbon capture systems—will be critical in addressing climate change and promoting eco-friendly practices across industries.\n"
     ]
    }
   ],
   "source": [
    "from dotenv import load_dotenv\n",
    "from agents import Agent, trace, Runner\n",
    "\n",
    "agent_call=Agent(\n",
    "    name=\"predict_future\",\n",
    "    model=\"gpt-4o-mini\",\n",
    "    instructions=\"Tell me something interesting about the world in 2030\"\n",
    ")\n",
    "\n",
    "agent_runner=await Runner.run(agent_call, \"What could be the top 5 companies in 2030\")\n",
    "\n",
    "print(f\"Runner Result: {agent_runner.final_output}\")\n",
    "\n",
    "with trace(\"predict_future\"):\n",
    "    result=await Runner.run(agent_call, \"Technical advancements in 2030 in brief five points\")\n",
    "    print(result.final_output)"
   ]
  }
 ],
 "metadata": {
  "kernelspec": {
   "display_name": "aienv",
   "language": "python",
   "name": "python3"
  },
  "language_info": {
   "codemirror_mode": {
    "name": "ipython",
    "version": 3
   },
   "file_extension": ".py",
   "mimetype": "text/x-python",
   "name": "python",
   "nbconvert_exporter": "python",
   "pygments_lexer": "ipython3",
   "version": "3.10.18"
  }
 },
 "nbformat": 4,
 "nbformat_minor": 5
}
