{
 "cells": [
  {
   "cell_type": "code",
   "execution_count": 1,
   "id": "89335387",
   "metadata": {},
   "outputs": [
    {
     "name": "stdout",
     "output_type": "stream",
     "text": [
      "Runner Result: While I can't predict the future, I can suggest potential candidates for the top companies in 2030 based on current trends and industry trajectories:\n",
      "\n",
      "1. **Tesla**: With the global shift toward sustainable energy and electric vehicles, Tesla might continue to lead in EV production and energy solutions, especially with advancements in battery technology and autonomous driving.\n",
      "\n",
      "2. **Amazon**: As e-commerce continues to grow and diversify, Amazon could strengthen its position not only in retail but also in cloud computing (AWS), logistics, and possibly even healthcare.\n",
      "\n",
      "3. **Apple**: With a strong focus on innovation, Apple may expand its ecosystem through augmented reality (AR) products, health technology, and services, appealing to its dedicated user base.\n",
      "\n",
      "4. **Alphabet (Google)**: As AI technologies advance, Alphabet could leverage its strength in search, cloud computing, and advertising, while potentially becoming a leader in AI-driven services.\n",
      "\n",
      "5. **Microsoft**: With its focus on cloud computing, AI integration, and enterprise solutions, Microsoft might continue to grow significantly, potentially benefiting from ongoing digital transformation across industries.\n",
      "\n",
      "These companies could thrive by adapting to technological advancements and shifting consumer behaviors, but the actual landscape will depend on various factors, including innovation, competition, and regulatory environments.\n",
      "Here are five notable technical advancements expected in 2030:\n",
      "\n",
      "1. **AI Integration**: Artificial intelligence becomes deeply integrated into daily life, from advanced personal assistants that manage tasks to AI-driven healthcare systems that provide personalized treatments and predictive diagnostics.\n",
      "\n",
      "2. **Quantum Computing**: Quantum computers achieve practical applications, solving complex problems in fields such as cryptography, materials science, and drug discovery faster than traditional computers can.\n",
      "\n",
      "3. **5G and Beyond**: The rollout of 5G and subsequent technologies enable ultra-fast internet connectivity, facilitating the growth of smart cities, autonomous vehicles, and the Internet of Things (IoT) on a large scale.\n",
      "\n",
      "4. **Sustainable Energy Technologies**: Advances in renewable energy, like more efficient solar panels and battery storage solutions, significantly reduce carbon footprints and reliance on fossil fuels, leading to greener cities.\n",
      "\n",
      "5. **Biotechnology Breakthroughs**: Innovations in gene editing (like CRISPR) and synthetic biology revolutionize medicine and agriculture, allowing for treatments of previously incurable diseases and the development of resilient crops to address food security.\n"
     ]
    }
   ],
   "source": [
    "from dotenv import load_dotenv\n",
    "from agents import Agent, trace, Runner\n",
    "\n",
    "agent_call=Agent(\n",
    "    name=\"predict_future\",\n",
    "    model=\"gpt-4o-mini\",\n",
    "    instructions=\"Tell me something interesting about the world in 2030\"\n",
    ")\n",
    "\n",
    "agent_runner=await Runner.run(agent_call, \"What could be the top 5 companies in 2030\")\n",
    "\n",
    "print(f\"Runner Result: {agent_runner.final_output}\")\n",
    "\n",
    "with trace(\"predict_future\"):\n",
    "    result=await Runner.run(agent_call, \"Technical advancements in 2030 in brief five points\")\n",
    "    print(result.final_output)"
   ]
  }
 ],
 "metadata": {
  "kernelspec": {
   "display_name": "voyage-venv-3.10",
   "language": "python",
   "name": "python3"
  },
  "language_info": {
   "codemirror_mode": {
    "name": "ipython",
    "version": 3
   },
   "file_extension": ".py",
   "mimetype": "text/x-python",
   "name": "python",
   "nbconvert_exporter": "python",
   "pygments_lexer": "ipython3",
   "version": "3.10.18"
  }
 },
 "nbformat": 4,
 "nbformat_minor": 5
}
